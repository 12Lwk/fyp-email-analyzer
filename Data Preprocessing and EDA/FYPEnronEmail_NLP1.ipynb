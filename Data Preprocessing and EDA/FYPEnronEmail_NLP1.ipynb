{
 "cells": [
  {
   "cell_type": "code",
   "execution_count": null,
   "metadata": {},
   "outputs": [],
   "source": [
    "import pandas as pd\n",
    "\n",
    "email_data = pd.read_csv(\n",
    "    'C:/Users/User/OneDrive - Asia Pacific University/APU Final Year Project/FYP Email Project Documents/Email Dataset Python/enron.csv',\n",
    "    delimiter=',', # Explicitly define the delimiter\n",
    "    quotechar='\"', # Handle quoted fields properly\n",
    "    escapechar='\\\\', # Escape special characters\n",
    "    engine='python', # Use the Python engine for better handling of irregular rows\n",
    "    on_bad_lines='skip',\n",
    "    encoding='ISO-8859-1',# Skip problematic lines\n",
    "    skip_blank_lines=True # Skip completely blank lines\n",
    ")\n",
    "\n",
    "email_data = email_data.apply(lambda x: x.str.strip().str.replace(r'\\s+', ' ', regex=True) if x.dtype == \"object\" else x)\n",
    "\n",
    "#email_data = email_data.drop(columns=['Cc', 'Bcc'])"
   ]
  },
  {
   "cell_type": "code",
   "execution_count": null,
   "metadata": {},
   "outputs": [],
   "source": [
    "email_data"
   ]
  },
  {
   "cell_type": "code",
   "execution_count": null,
   "metadata": {},
   "outputs": [],
   "source": [
    "email_data.info(memory_usage='deep') \n",
    "print(\"Number of Rows and Columns: \", email_data.shape) "
   ]
  },
  {
   "cell_type": "markdown",
   "metadata": {},
   "source": [
    "# Data Cleaning"
   ]
  },
  {
   "cell_type": "markdown",
   "metadata": {},
   "source": [
    "Duplication Exploration"
   ]
  },
  {
   "cell_type": "code",
   "execution_count": null,
   "metadata": {},
   "outputs": [],
   "source": [
    "duplicates = email_data.duplicated()\n",
    "print(email_data[duplicates])\n",
    "num_duplicates = duplicates.sum()\n",
    "print(\"Number of Duplicate:\", num_duplicates)"
   ]
  },
  {
   "cell_type": "code",
   "execution_count": null,
   "metadata": {},
   "outputs": [],
   "source": [
    "#check duplication for specific columns\n",
    "check_duplicate_rows = email_data[email_data.duplicated(subset=['Message-ID', 'Date', 'From', 'To', 'Subject', 'Message'], keep=False)]\n",
    "check_duplicate_rows"
   ]
  },
  {
   "cell_type": "code",
   "execution_count": null,
   "metadata": {},
   "outputs": [],
   "source": [
    "check_duplicate_rows = email_data[email_data.duplicated(subset=['Date', 'From', 'To', 'Subject', 'Message'], keep=False)]\n",
    "check_duplicate_rows"
   ]
  },
  {
   "cell_type": "markdown",
   "metadata": {},
   "source": [
    "Duplication Cleaning"
   ]
  },
  {
   "cell_type": "code",
   "execution_count": null,
   "metadata": {},
   "outputs": [],
   "source": [
    "#Remove duplication\n",
    "email_data = email_data.drop_duplicates(subset=['Message-ID', 'Date', 'From', 'To', 'Subject', 'Message'], keep='first')\n",
    "email_data"
   ]
  },
  {
   "cell_type": "code",
   "execution_count": null,
   "metadata": {},
   "outputs": [],
   "source": [
    "#Remove duplication\n",
    "email_data = email_data.drop_duplicates(subset=['Date', 'From', 'To', 'Subject', 'Message'], keep='first')\n",
    "email_data"
   ]
  },
  {
   "cell_type": "markdown",
   "metadata": {},
   "source": [
    "Missing Values Exploration"
   ]
  },
  {
   "cell_type": "code",
   "execution_count": null,
   "metadata": {},
   "outputs": [],
   "source": [
    "#Check Missing Values #email_data.isnull()\n",
    "email_data.isnull().sum()"
   ]
  },
  {
   "cell_type": "code",
   "execution_count": null,
   "metadata": {},
   "outputs": [],
   "source": [
    "#Check All Columns\n",
    "check_null_rows = email_data[email_data[['Message-ID', 'Date', 'From', 'To', 'Subject', 'Message']].isnull().all(axis=1)]\n",
    "check_null_rows"
   ]
  },
  {
   "cell_type": "code",
   "execution_count": null,
   "metadata": {},
   "outputs": [],
   "source": [
    "#Check All Columns Except Message-ID\n",
    "check_null_rows = email_data[email_data[['Date', 'From', 'To', 'Subject', 'Message']].isnull().all(axis=1)]\n",
    "check_null_rows"
   ]
  },
  {
   "cell_type": "code",
   "execution_count": null,
   "metadata": {},
   "outputs": [],
   "source": [
    "#Check From and To Columns \n",
    "check_null_rows = email_data[email_data[['From', 'To']].isnull().all(axis=1)]\n",
    "check_null_rows"
   ]
  },
  {
   "cell_type": "code",
   "execution_count": null,
   "metadata": {},
   "outputs": [],
   "source": [
    "#Check From Only\n",
    "check_null_rows = email_data[email_data[['From']].isnull().all(axis=1)]\n",
    "check_null_rows"
   ]
  },
  {
   "cell_type": "code",
   "execution_count": null,
   "metadata": {},
   "outputs": [],
   "source": [
    "#Check Subject and To Message \n",
    "check_null_rows = email_data[email_data[['Subject', 'Message']].isnull().all(axis=1)]\n",
    "check_null_rows"
   ]
  },
  {
   "cell_type": "code",
   "execution_count": null,
   "metadata": {},
   "outputs": [],
   "source": [
    "check_null_rows = email_data[email_data[['Message-ID']].isnull().all(axis=1)]\n",
    "check_null_rows"
   ]
  },
  {
   "cell_type": "markdown",
   "metadata": {},
   "source": [
    "Missing Values Cleaning"
   ]
  },
  {
   "cell_type": "code",
   "execution_count": 16,
   "metadata": {},
   "outputs": [],
   "source": [
    "email_data = email_data.dropna(subset=['Message-ID', 'Date', 'From', 'To', 'Subject', 'Message'], how='all')\n",
    "email_data = email_data.dropna(subset=['Date', 'From', 'To', 'Subject', 'Message'], how='all')\n",
    "email_data = email_data.dropna(subset=['From', 'To'], how='all')\n",
    "email_data = email_data.dropna(subset=['From'], how='all')\n",
    "email_data = email_data.dropna(subset=['Subject', 'Message'], how='all')\n",
    "email_data = email_data.dropna(subset=['Message-ID'], how='all')"
   ]
  },
  {
   "cell_type": "code",
   "execution_count": null,
   "metadata": {},
   "outputs": [],
   "source": [
    "email_data.info(memory_usage='deep') \n",
    "print(\"Number of Rows and Columns: \", email_data.shape) "
   ]
  },
  {
   "cell_type": "code",
   "execution_count": null,
   "metadata": {},
   "outputs": [],
   "source": [
    "email_data"
   ]
  },
  {
   "cell_type": "markdown",
   "metadata": {},
   "source": [
    "Noise Reduction Exploration"
   ]
  },
  {
   "cell_type": "code",
   "execution_count": null,
   "metadata": {},
   "outputs": [],
   "source": [
    "not_contain_javamail_check = email_data[~email_data['Message-ID'].str.contains('JavaMail', na=False)]\n",
    "not_contain_javamail_check"
   ]
  },
  {
   "cell_type": "markdown",
   "metadata": {},
   "source": [
    "Noise Reduction Cleaning"
   ]
  },
  {
   "cell_type": "code",
   "execution_count": null,
   "metadata": {},
   "outputs": [],
   "source": [
    "email_data = email_data[email_data['Message-ID'].str.contains('JavaMail', na=False)]\n",
    "email_data"
   ]
  },
  {
   "cell_type": "code",
   "execution_count": null,
   "metadata": {},
   "outputs": [],
   "source": [
    "numerical_subjects_and_message = email_data[email_data['Subject'].str.match(r'^\\d+$', na=False) & email_data['Message'].str.match(r'^\\d+$', na=False)]\n",
    "numerical_subjects_and_message"
   ]
  },
  {
   "cell_type": "code",
   "execution_count": null,
   "metadata": {},
   "outputs": [],
   "source": [
    "email_data.info(memory_usage='deep') \n",
    "print(\"Number of Rows and Columns: \", email_data.shape) "
   ]
  },
  {
   "cell_type": "code",
   "execution_count": null,
   "metadata": {},
   "outputs": [],
   "source": [
    "# Filter rows where 'From' does not contain '@'\n",
    "no_at_symbol = email_data[~email_data['From'].str.contains('@', na=False)]\n",
    "\n",
    "pd.set_option('display.width', 1000)\n",
    "\n",
    "print(no_at_symbol)"
   ]
  },
  {
   "cell_type": "code",
   "execution_count": null,
   "metadata": {},
   "outputs": [],
   "source": [
    "pd.set_option('display.max_rows', None)\n",
    "\n",
    "from_counts = email_data['From'].value_counts()\n",
    "print(from_counts)"
   ]
  },
  {
   "cell_type": "markdown",
   "metadata": {},
   "source": [
    "Dropping Irrelevant features"
   ]
  },
  {
   "cell_type": "code",
   "execution_count": 25,
   "metadata": {},
   "outputs": [],
   "source": [
    "email_data = email_data.drop(columns=['Message-ID'])"
   ]
  },
  {
   "cell_type": "code",
   "execution_count": null,
   "metadata": {},
   "outputs": [],
   "source": [
    "email_data.info(memory_usage='deep') \n",
    "print(\"Number of Rows and Columns: \", email_data.shape) "
   ]
  },
  {
   "cell_type": "code",
   "execution_count": 27,
   "metadata": {},
   "outputs": [],
   "source": [
    "cleaned_enron_dataset = 'enron_cleaned.csv'\n",
    "email_data.to_csv(cleaned_enron_dataset, index=False)"
   ]
  }
 ],
 "metadata": {
  "kernelspec": {
   "display_name": "Python 3",
   "language": "python",
   "name": "python3"
  },
  "language_info": {
   "codemirror_mode": {
    "name": "ipython",
    "version": 3
   },
   "file_extension": ".py",
   "mimetype": "text/x-python",
   "name": "python",
   "nbconvert_exporter": "python",
   "pygments_lexer": "ipython3",
   "version": "3.12.9"
  }
 },
 "nbformat": 4,
 "nbformat_minor": 2
}
