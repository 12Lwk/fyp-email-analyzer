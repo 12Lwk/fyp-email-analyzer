{
 "cells": [
  {
   "cell_type": "code",
   "execution_count": 1,
   "metadata": {},
   "outputs": [],
   "source": [
    "import pandas as pd\n",
    "\n",
    "email_data = pd.read_csv('C:/Users/User/OneDrive - Asia Pacific University/APU Final Year Project/FYP Email Project Documents/Email Dataset Python/FYP PART 1/enron_cleaned.csv')"
   ]
  },
  {
   "cell_type": "code",
   "execution_count": 2,
   "metadata": {},
   "outputs": [
    {
     "name": "stdout",
     "output_type": "stream",
     "text": [
      "<class 'pandas.core.frame.DataFrame'>\n",
      "RangeIndex: 253175 entries, 0 to 253174\n",
      "Data columns (total 7 columns):\n",
      " #   Column   Non-Null Count   Dtype \n",
      "---  ------   --------------   ----- \n",
      " 0   Date     253175 non-null  object\n",
      " 1   From     253175 non-null  object\n",
      " 2   To       243285 non-null  object\n",
      " 3   Subject  244469 non-null  object\n",
      " 4   Message  253174 non-null  object\n",
      " 5   Cc       59495 non-null   object\n",
      " 6   Bcc      59495 non-null   object\n",
      "dtypes: object(7)\n",
      "memory usage: 539.7 MB\n",
      "Number of Rows and Columns:  (253175, 7)\n"
     ]
    }
   ],
   "source": [
    "email_data.info(memory_usage='deep') \n",
    "print(\"Number of Rows and Columns: \", email_data.shape) "
   ]
  },
  {
   "cell_type": "code",
   "execution_count": 3,
   "metadata": {},
   "outputs": [
    {
     "name": "stdout",
     "output_type": "stream",
     "text": [
      "Number of PST :  120704\n",
      "Number of PDT :  132470\n"
     ]
    }
   ],
   "source": [
    "pst_count = email_data['Date'].str.contains(r'\\(PST\\)').sum()\n",
    "pdt_count = email_data['Date'].str.contains(r'\\(PDT\\)').sum()\n",
    "\n",
    "print(\"Number of PST : \", pst_count)\n",
    "print(\"Number of PDT : \", pdt_count)"
   ]
  },
  {
   "cell_type": "code",
   "execution_count": 4,
   "metadata": {},
   "outputs": [
    {
     "data": {
      "text/html": [
       "<div>\n",
       "<style scoped>\n",
       "    .dataframe tbody tr th:only-of-type {\n",
       "        vertical-align: middle;\n",
       "    }\n",
       "\n",
       "    .dataframe tbody tr th {\n",
       "        vertical-align: top;\n",
       "    }\n",
       "\n",
       "    .dataframe thead th {\n",
       "        text-align: right;\n",
       "    }\n",
       "</style>\n",
       "<table border=\"1\" class=\"dataframe\">\n",
       "  <thead>\n",
       "    <tr style=\"text-align: right;\">\n",
       "      <th></th>\n",
       "      <th>Date</th>\n",
       "      <th>From</th>\n",
       "      <th>To</th>\n",
       "      <th>Subject</th>\n",
       "      <th>Message</th>\n",
       "      <th>Cc</th>\n",
       "      <th>Bcc</th>\n",
       "    </tr>\n",
       "  </thead>\n",
       "  <tbody>\n",
       "    <tr>\n",
       "      <th>0</th>\n",
       "      <td>Mon, 14 May 2001 16:39:00 -0700 (PDT)</td>\n",
       "      <td>phillip.allen@enron.com</td>\n",
       "      <td>tim.belden@enron.com</td>\n",
       "      <td>NaN</td>\n",
       "      <td>Here is our forecast</td>\n",
       "      <td>NaN</td>\n",
       "      <td>NaN</td>\n",
       "    </tr>\n",
       "    <tr>\n",
       "      <th>1</th>\n",
       "      <td>Fri, 4 May 2001 13:51:00 -0700 (PDT)</td>\n",
       "      <td>phillip.allen@enron.com</td>\n",
       "      <td>john.lavorato@enron.com</td>\n",
       "      <td>Re:</td>\n",
       "      <td>Traveling to have a business meeting takes the...</td>\n",
       "      <td>NaN</td>\n",
       "      <td>NaN</td>\n",
       "    </tr>\n",
       "    <tr>\n",
       "      <th>2</th>\n",
       "      <td>Wed, 18 Oct 2000 03:00:00 -0700 (PDT)</td>\n",
       "      <td>phillip.allen@enron.com</td>\n",
       "      <td>leah.arsdall@enron.com</td>\n",
       "      <td>Re: test</td>\n",
       "      <td>test successful. way to go!!!</td>\n",
       "      <td>NaN</td>\n",
       "      <td>NaN</td>\n",
       "    </tr>\n",
       "    <tr>\n",
       "      <th>3</th>\n",
       "      <td>Mon, 23 Oct 2000 06:13:00 -0700 (PDT)</td>\n",
       "      <td>phillip.allen@enron.com</td>\n",
       "      <td>randall.gay@enron.com</td>\n",
       "      <td>NaN</td>\n",
       "      <td>Randy, Can you send me a schedule of the salar...</td>\n",
       "      <td>NaN</td>\n",
       "      <td>NaN</td>\n",
       "    </tr>\n",
       "    <tr>\n",
       "      <th>4</th>\n",
       "      <td>Thu, 31 Aug 2000 05:07:00 -0700 (PDT)</td>\n",
       "      <td>phillip.allen@enron.com</td>\n",
       "      <td>greg.piper@enron.com</td>\n",
       "      <td>Re: Hello</td>\n",
       "      <td>Let's shoot for Tuesday at 11:45.</td>\n",
       "      <td>NaN</td>\n",
       "      <td>NaN</td>\n",
       "    </tr>\n",
       "    <tr>\n",
       "      <th>...</th>\n",
       "      <td>...</td>\n",
       "      <td>...</td>\n",
       "      <td>...</td>\n",
       "      <td>...</td>\n",
       "      <td>...</td>\n",
       "      <td>...</td>\n",
       "      <td>...</td>\n",
       "    </tr>\n",
       "    <tr>\n",
       "      <th>253170</th>\n",
       "      <td>Wed, 28 Nov 2001 13:30:11 -0800 (PST)</td>\n",
       "      <td>john.zufferli@enron.com</td>\n",
       "      <td>kori.loibl@enron.com</td>\n",
       "      <td>Trade with John Lavorato</td>\n",
       "      <td>This is a trade with OIL-SPEC-HEDGE-NG (John L...</td>\n",
       "      <td>NaN</td>\n",
       "      <td>NaN</td>\n",
       "    </tr>\n",
       "    <tr>\n",
       "      <th>253171</th>\n",
       "      <td>Wed, 28 Nov 2001 12:47:48 -0800 (PST)</td>\n",
       "      <td>john.zufferli@enron.com</td>\n",
       "      <td>john.lavorato@enron.com</td>\n",
       "      <td>Gas Hedges</td>\n",
       "      <td>Some of my position is with the Alberta Term b...</td>\n",
       "      <td>NaN</td>\n",
       "      <td>NaN</td>\n",
       "    </tr>\n",
       "    <tr>\n",
       "      <th>253172</th>\n",
       "      <td>Wed, 28 Nov 2001 07:20:00 -0800 (PST)</td>\n",
       "      <td>john.zufferli@enron.com</td>\n",
       "      <td>dawn.doucet@enron.com</td>\n",
       "      <td>RE: CONFIDENTIAL</td>\n",
       "      <td>2 -----Original Message----- From: Doucet, Daw...</td>\n",
       "      <td>NaN</td>\n",
       "      <td>NaN</td>\n",
       "    </tr>\n",
       "    <tr>\n",
       "      <th>253173</th>\n",
       "      <td>Tue, 27 Nov 2001 11:52:45 -0800 (PST)</td>\n",
       "      <td>john.zufferli@enron.com</td>\n",
       "      <td>jeanie.slone@enron.com</td>\n",
       "      <td>Calgary Analyst/Associate</td>\n",
       "      <td>Analyst Rank Stephane Brodeur 1 Chad Clark 1 I...</td>\n",
       "      <td>NaN</td>\n",
       "      <td>NaN</td>\n",
       "    </tr>\n",
       "    <tr>\n",
       "      <th>253174</th>\n",
       "      <td>Mon, 26 Nov 2001 10:48:43 -0800 (PST)</td>\n",
       "      <td>john.zufferli@enron.com</td>\n",
       "      <td>livia_zufferli@monitor.com</td>\n",
       "      <td>RE: ali's essays</td>\n",
       "      <td>i think the YMCA has a class that is for peopl...</td>\n",
       "      <td>NaN</td>\n",
       "      <td>NaN</td>\n",
       "    </tr>\n",
       "  </tbody>\n",
       "</table>\n",
       "<p>253175 rows × 7 columns</p>\n",
       "</div>"
      ],
      "text/plain": [
       "                                         Date                     From  \\\n",
       "0       Mon, 14 May 2001 16:39:00 -0700 (PDT)  phillip.allen@enron.com   \n",
       "1        Fri, 4 May 2001 13:51:00 -0700 (PDT)  phillip.allen@enron.com   \n",
       "2       Wed, 18 Oct 2000 03:00:00 -0700 (PDT)  phillip.allen@enron.com   \n",
       "3       Mon, 23 Oct 2000 06:13:00 -0700 (PDT)  phillip.allen@enron.com   \n",
       "4       Thu, 31 Aug 2000 05:07:00 -0700 (PDT)  phillip.allen@enron.com   \n",
       "...                                       ...                      ...   \n",
       "253170  Wed, 28 Nov 2001 13:30:11 -0800 (PST)  john.zufferli@enron.com   \n",
       "253171  Wed, 28 Nov 2001 12:47:48 -0800 (PST)  john.zufferli@enron.com   \n",
       "253172  Wed, 28 Nov 2001 07:20:00 -0800 (PST)  john.zufferli@enron.com   \n",
       "253173  Tue, 27 Nov 2001 11:52:45 -0800 (PST)  john.zufferli@enron.com   \n",
       "253174  Mon, 26 Nov 2001 10:48:43 -0800 (PST)  john.zufferli@enron.com   \n",
       "\n",
       "                                To                    Subject  \\\n",
       "0             tim.belden@enron.com                        NaN   \n",
       "1          john.lavorato@enron.com                        Re:   \n",
       "2           leah.arsdall@enron.com                   Re: test   \n",
       "3            randall.gay@enron.com                        NaN   \n",
       "4             greg.piper@enron.com                  Re: Hello   \n",
       "...                            ...                        ...   \n",
       "253170        kori.loibl@enron.com   Trade with John Lavorato   \n",
       "253171     john.lavorato@enron.com                 Gas Hedges   \n",
       "253172       dawn.doucet@enron.com           RE: CONFIDENTIAL   \n",
       "253173      jeanie.slone@enron.com  Calgary Analyst/Associate   \n",
       "253174  livia_zufferli@monitor.com           RE: ali's essays   \n",
       "\n",
       "                                                  Message   Cc  Bcc  \n",
       "0                                    Here is our forecast  NaN  NaN  \n",
       "1       Traveling to have a business meeting takes the...  NaN  NaN  \n",
       "2                           test successful. way to go!!!  NaN  NaN  \n",
       "3       Randy, Can you send me a schedule of the salar...  NaN  NaN  \n",
       "4                       Let's shoot for Tuesday at 11:45.  NaN  NaN  \n",
       "...                                                   ...  ...  ...  \n",
       "253170  This is a trade with OIL-SPEC-HEDGE-NG (John L...  NaN  NaN  \n",
       "253171  Some of my position is with the Alberta Term b...  NaN  NaN  \n",
       "253172  2 -----Original Message----- From: Doucet, Daw...  NaN  NaN  \n",
       "253173  Analyst Rank Stephane Brodeur 1 Chad Clark 1 I...  NaN  NaN  \n",
       "253174  i think the YMCA has a class that is for peopl...  NaN  NaN  \n",
       "\n",
       "[253175 rows x 7 columns]"
      ]
     },
     "execution_count": 4,
     "metadata": {},
     "output_type": "execute_result"
    }
   ],
   "source": [
    "email_data"
   ]
  },
  {
   "cell_type": "code",
   "execution_count": 5,
   "metadata": {},
   "outputs": [
    {
     "name": "stderr",
     "output_type": "stream",
     "text": [
      "C:\\Users\\User\\AppData\\Local\\Temp\\ipykernel_8492\\3689233823.py:1: UserWarning: This pattern is interpreted as a regular expression, and has match groups. To actually get the groups, use str.extract.\n",
      "  date_format_transformation = email_data['Date'].str.contains(r'\\b(Monday|Tuesday|Wednesday|Thursday|Friday|Saturday|Sunday)\\b', regex=True)\n"
     ]
    }
   ],
   "source": [
    "date_format_transformation = email_data['Date'].str.contains(r'\\b(Monday|Tuesday|Wednesday|Thursday|Friday|Saturday|Sunday)\\b', regex=True)\n",
    "\n",
    "email_data.loc[date_format_transformation, 'Date'] = email_data.loc[date_format_transformation, 'Date'].str.replace(\n",
    "    r'(Monday|Tuesday|Wednesday|Thursday|Friday|Saturday|Sunday),\\s(\\w+)\\s(\\d+)',\n",
    "    r'Mon, \\3 \\2 2001 00:00:00 -0000 (UTC)', regex=True\n",
    ")\n",
    "\n",
    "email_data['Date'] = email_data['Date'].str.strip()"
   ]
  },
  {
   "cell_type": "code",
   "execution_count": null,
   "metadata": {},
   "outputs": [],
   "source": [
    "email_data['Date'] = pd.to_datetime(email_data['Date'], utc=True)\n",
    "email_data['Date'] = email_data['Date'].dt.strftime('%a, %d %b %Y %H:%M:%S %z (%Z)')"
   ]
  },
  {
   "cell_type": "code",
   "execution_count": null,
   "metadata": {},
   "outputs": [],
   "source": [
    "email_data['Date'] = email_data['Date'].str.replace(r'\\s[+\\-]\\d{4}\\s\\([A-Za-z]+\\)', '', regex=True)"
   ]
  },
  {
   "cell_type": "code",
   "execution_count": null,
   "metadata": {},
   "outputs": [],
   "source": [
    "email_data[['Day', 'Date & Time']] = email_data['Date'].str.extract(r'(\\w{3}),\\s(\\d{2}\\s\\w{3}\\s\\d{4}\\s\\d{2}:\\d{2}:\\d{2})')\n",
    "\n",
    "email_data['Day'] = pd.to_datetime(email_data['Date & Time'], format='%d %b %Y %H:%M:%S').dt.strftime('%A')\n",
    "\n",
    "email_data['Date & Time'] = pd.to_datetime(email_data['Date & Time'], format='%d %b %Y %H:%M:%S').dt.strftime('%Y-%m-%d %H:%M:%S')\n",
    "\n",
    "email_data = email_data.drop(columns=['Date'])"
   ]
  },
  {
   "cell_type": "code",
   "execution_count": null,
   "metadata": {},
   "outputs": [],
   "source": [
    "#pattern = r'(\\w{3}), (\\d{1,2} \\w{3} \\d{4}) (\\d{2}:\\d{2}:\\d{2} [-+]\\d{4} \\(\\w{3}\\))'\n",
    "\n",
    "#email_data[['Day', 'Date', 'Time']] = email_data['Date'].str.extract(pattern)\n",
    "\n",
    "#column_order = ['From', 'To', 'Subject', 'Message', 'Day', 'Date', 'Time']\n",
    "#email_data = email_data[column_order]"
   ]
  },
  {
   "cell_type": "code",
   "execution_count": null,
   "metadata": {},
   "outputs": [
    {
     "name": "stdout",
     "output_type": "stream",
     "text": [
      "['Monday' 'Friday' 'Wednesday' 'Thursday' 'Tuesday' 'Sunday' 'Saturday']\n",
      "\n",
      " ['2001-05-14 23:39:00' '2001-05-04 20:51:00' '2000-10-18 10:00:00' ...\n",
      " '2001-11-28 15:20:00' '2001-11-27 19:52:45' '2001-11-26 18:48:43']\n"
     ]
    }
   ],
   "source": [
    "print(email_data['Day'].unique())\n",
    "\n",
    "print(\"\\n\", email_data['Date & Time'].unique())"
   ]
  },
  {
   "cell_type": "code",
   "execution_count": null,
   "metadata": {},
   "outputs": [
    {
     "name": "stdout",
     "output_type": "stream",
     "text": [
      "<class 'pandas.core.frame.DataFrame'>\n",
      "RangeIndex: 253175 entries, 0 to 253174\n",
      "Data columns (total 8 columns):\n",
      " #   Column       Non-Null Count   Dtype \n",
      "---  ------       --------------   ----- \n",
      " 0   From         253175 non-null  object\n",
      " 1   To           243285 non-null  object\n",
      " 2   Subject      244469 non-null  object\n",
      " 3   Message      253174 non-null  object\n",
      " 4   Cc           59495 non-null   object\n",
      " 5   Bcc          59495 non-null   object\n",
      " 6   Day          253175 non-null  object\n",
      " 7   Date & Time  253175 non-null  object\n",
      "dtypes: object(8)\n",
      "memory usage: 549.0 MB\n",
      "Number of Rows and Columns:  (253175, 8)\n"
     ]
    }
   ],
   "source": [
    "email_data.info(memory_usage='deep') \n",
    "print(\"Number of Rows and Columns: \", email_data.shape) "
   ]
  },
  {
   "cell_type": "code",
   "execution_count": null,
   "metadata": {},
   "outputs": [],
   "source": [
    "email_data['Date & Time'] = pd.to_datetime(email_data['Date & Time'])\n",
    "\n",
    "email_data = email_data.sort_values(by=['Subject', 'Date & Time'])\n",
    "\n",
    "email_data['Response Time'] = None  \n",
    "\n",
    "for subject, group in email_data.groupby('Subject'):\n",
    "    previous_row = None\n",
    "    \n",
    "    for idx, row in group.iterrows():\n",
    "        if previous_row is not None:\n",
    "            if pd.notna(previous_row['To']):\n",
    "                recipients = [recipient.strip() for recipient in previous_row['To'].split(',')]\n",
    "                \n",
    "                if row['From'] in recipients:\n",
    "                    response_time = row['Date & Time'] - previous_row['Date & Time']\n",
    "                    email_data.loc[idx, 'Response Time'] = response_time\n",
    "        previous_row = row\n",
    "\n",
    "email_data['Response Time'] = pd.to_timedelta(email_data['Response Time'])\n",
    "\n",
    "email_data['Response Time'] = email_data['Response Time'].apply(\n",
    "    lambda x: str(x) if pd.notna(x) else 'NaT'\n",
    ")\n"
   ]
  },
  {
   "cell_type": "code",
   "execution_count": null,
   "metadata": {},
   "outputs": [],
   "source": [
    "email_data['Response Time'] = email_data['Response Time'].apply(\n",
    "    lambda x: str(x) if pd.notna(x) else 'NaT'\n",
    ")"
   ]
  },
  {
   "cell_type": "code",
   "execution_count": null,
   "metadata": {},
   "outputs": [
    {
     "name": "stdout",
     "output_type": "stream",
     "text": [
      "<class 'pandas.core.frame.DataFrame'>\n",
      "Index: 253175 entries, 198164 to 172220\n",
      "Data columns (total 9 columns):\n",
      " #   Column         Non-Null Count   Dtype         \n",
      "---  ------         --------------   -----         \n",
      " 0   From           253175 non-null  object        \n",
      " 1   To             243285 non-null  object        \n",
      " 2   Subject        244469 non-null  object        \n",
      " 3   Message        253174 non-null  object        \n",
      " 4   Cc             59495 non-null   object        \n",
      " 5   Bcc            59495 non-null   object        \n",
      " 6   Day            253175 non-null  object        \n",
      " 7   Date & Time    253175 non-null  datetime64[ns]\n",
      " 8   Response Time  253175 non-null  object        \n",
      "dtypes: datetime64[ns](1), object(8)\n",
      "memory usage: 557.3 MB\n",
      "Number of Rows and Columns:  (253175, 9)\n"
     ]
    }
   ],
   "source": [
    "email_data.info(memory_usage='deep') \n",
    "print(\"Number of Rows and Columns: \", email_data.shape) "
   ]
  },
  {
   "cell_type": "code",
   "execution_count": null,
   "metadata": {},
   "outputs": [],
   "source": [
    "email_data"
   ]
  },
  {
   "cell_type": "code",
   "execution_count": null,
   "metadata": {},
   "outputs": [],
   "source": [
    "cleaned_enron_dataset_New_Features = 'enron_cleaned_new_feature.csv'\n",
    "email_data.to_csv(cleaned_enron_dataset_New_Features, index=False)"
   ]
  }
 ],
 "metadata": {
  "kernelspec": {
   "display_name": "Python 3",
   "language": "python",
   "name": "python3"
  },
  "language_info": {
   "codemirror_mode": {
    "name": "ipython",
    "version": 3
   },
   "file_extension": ".py",
   "mimetype": "text/x-python",
   "name": "python",
   "nbconvert_exporter": "python",
   "pygments_lexer": "ipython3",
   "version": "3.12.9"
  }
 },
 "nbformat": 4,
 "nbformat_minor": 2
}
